{
 "cells": [
  {
   "cell_type": "code",
   "execution_count": 1,
   "metadata": {},
   "outputs": [
    {
     "name": "stdout",
     "output_type": "stream",
     "text": [
      "OS Type:  nt\n"
     ]
    }
   ],
   "source": [
    "import os\n",
    "print(\"OS Type: \",os.name)"
   ]
  },
  {
   "cell_type": "code",
   "execution_count": 2,
   "metadata": {},
   "outputs": [
    {
     "name": "stdout",
     "output_type": "stream",
     "text": [
      "OS Name:  win32\n"
     ]
    }
   ],
   "source": [
    "import sys\n",
    "print(\"OS Name: \",sys.platform)"
   ]
  },
  {
   "cell_type": "code",
   "execution_count": 3,
   "metadata": {},
   "outputs": [
    {
     "name": "stdout",
     "output_type": "stream",
     "text": [
      "OS Platform:  Windows-10-10.0.22621-SP0\n"
     ]
    }
   ],
   "source": [
    "import platform\n",
    "print(\"OS Platform: \",platform.platform())"
   ]
  },
  {
   "cell_type": "code",
   "execution_count": 4,
   "metadata": {},
   "outputs": [
    {
     "name": "stdout",
     "output_type": "stream",
     "text": [
      "Number of cores are :  20\n"
     ]
    }
   ],
   "source": [
    "import multiprocessing\n",
    "\n",
    "numberOfCores = multiprocessing.cpu_count()\n",
    "print(\"Number of cores are : \",numberOfCores)"
   ]
  },
  {
   "cell_type": "code",
   "execution_count": 5,
   "metadata": {},
   "outputs": [
    {
     "name": "stdout",
     "output_type": "stream",
     "text": [
      "Number of active threads are :  9\n"
     ]
    }
   ],
   "source": [
    "import threading\n",
    "activeThread = threading.active_count()\n",
    "print(\"Number of active threads are : \",activeThread)"
   ]
  },
  {
   "cell_type": "code",
   "execution_count": 6,
   "metadata": {},
   "outputs": [],
   "source": [
    "import numpy as np\n",
    "import threading\n",
    "import time"
   ]
  },
  {
   "cell_type": "code",
   "execution_count": 7,
   "metadata": {},
   "outputs": [],
   "source": [
    "def generate_matrices(num,size):\n",
    "    matrices =[]\n",
    "    for _ in range(num):\n",
    "        matrices.append(np.random.rand(size,size))\n",
    "    return matrices"
   ]
  },
  {
   "cell_type": "code",
   "execution_count": 8,
   "metadata": {},
   "outputs": [],
   "source": [
    "def multiply_matrices(constant_matrix, matrices, result, index):\n",
    "    result[index] = np.dot(constant_matrix, matrices[index])"
   ]
  },
  {
   "cell_type": "code",
   "execution_count": 9,
   "metadata": {},
   "outputs": [],
   "source": [
    "num_matrices = 500\n",
    "matrix_size = 5000\n",
    "constant_matrix = np.random.rand(matrix_size, matrix_size)"
   ]
  },
  {
   "cell_type": "code",
   "execution_count": 10,
   "metadata": {},
   "outputs": [
    {
     "data": {
      "text/plain": [
       "array([[0.60539884, 0.13765943, 0.44227072, ..., 0.76205893, 0.83245556,\n",
       "        0.70638441],\n",
       "       [0.18615201, 0.76341397, 0.93937673, ..., 0.84782757, 0.37590854,\n",
       "        0.86866357],\n",
       "       [0.20423911, 0.33516464, 0.06703183, ..., 0.29734844, 0.43739412,\n",
       "        0.80618923],\n",
       "       ...,\n",
       "       [0.16370282, 0.03285428, 0.56136277, ..., 0.00404458, 0.43855694,\n",
       "        0.18807903],\n",
       "       [0.64031151, 0.77616486, 0.9183335 , ..., 0.57901016, 0.12402574,\n",
       "        0.58305426],\n",
       "       [0.78661722, 0.93652733, 0.41503359, ..., 0.80969871, 0.79758463,\n",
       "        0.75685035]])"
      ]
     },
     "execution_count": 10,
     "metadata": {},
     "output_type": "execute_result"
    }
   ],
   "source": [
    "constant_matrix"
   ]
  },
  {
   "cell_type": "code",
   "execution_count": 11,
   "metadata": {},
   "outputs": [],
   "source": [
    "time_arr=[None]*(2*numberOfCores)"
   ]
  },
  {
   "cell_type": "code",
   "execution_count": 12,
   "metadata": {},
   "outputs": [
    {
     "data": {
      "text/plain": [
       "[None,\n",
       " None,\n",
       " None,\n",
       " None,\n",
       " None,\n",
       " None,\n",
       " None,\n",
       " None,\n",
       " None,\n",
       " None,\n",
       " None,\n",
       " None,\n",
       " None,\n",
       " None,\n",
       " None,\n",
       " None,\n",
       " None,\n",
       " None,\n",
       " None,\n",
       " None,\n",
       " None,\n",
       " None,\n",
       " None,\n",
       " None,\n",
       " None,\n",
       " None,\n",
       " None,\n",
       " None,\n",
       " None,\n",
       " None,\n",
       " None,\n",
       " None,\n",
       " None,\n",
       " None,\n",
       " None,\n",
       " None,\n",
       " None,\n",
       " None,\n",
       " None,\n",
       " None]"
      ]
     },
     "execution_count": 12,
     "metadata": {},
     "output_type": "execute_result"
    }
   ],
   "source": [
    "time_arr"
   ]
  },
  {
   "cell_type": "code",
   "execution_count": 13,
   "metadata": {},
   "outputs": [],
   "source": [
    "matrices = generate_matrices(num_matrices, matrix_size)\n",
    "result = [None] * num_matrices\n",
    "activeThreads=0\n",
    "for num_threads in range(1,2*numberOfCores+1):\n",
    "    start_time = time.time()\n",
    "    threads = []\n",
    "    activeThreads = threading.activeCount()\n",
    "    print(f\"Multiplication with {num_threads} threads:\")\n",
    "    for i in range(num_matrices):\n",
    "        thread = threading.Thread(target=multiply_matrices, args=(constant_matrix, matrices, result, i))\n",
    "        threads.append(thread)\n",
    "        thread.start()\n",
    "        while True:\n",
    "            if threading.activeCount() - activeThreads + 1 <= num_threads:\n",
    "                break\n",
    "            time.sleep(1)\n",
    "    while True:\n",
    "        if threading.activeCount() == activeThreads:\n",
    "            break\n",
    "        else:\n",
    "            print (\"    Thread still running (left %d)...\"%(threading.activeCount() - activeThreads))\n",
    "            time.sleep(1)\n",
    "\n",
    "    print(\" All Thread ends\")\n",
    "\n",
    "    print(\"Program Finished\")\n",
    "    print(\"Total Time %f sec\" % (round( time.time() - start_time,4)))\n",
    "    time_arr[num_threads-1]=(round( time.time() - start_time,4))"
   ]
  },
  {
   "cell_type": "code",
   "execution_count": null,
   "metadata": {},
   "outputs": [
    {
     "data": {
      "text/plain": [
       "[101.4822,\n",
       " 50.6158,\n",
       " 34.5122,\n",
       " 25.4462,\n",
       " 20.3787,\n",
       " 15.4124,\n",
       " 12.3691,\n",
       " 10.3176,\n",
       " 9.2645,\n",
       " 8.3187,\n",
       " 7.2992,\n",
       " 7.3187,\n",
       " 6.281,\n",
       " 6.2959,\n",
       " 5.3109]"
      ]
     },
     "execution_count": 21,
     "metadata": {},
     "output_type": "execute_result"
    }
   ],
   "source": [
    "time_arr"
   ]
  },
  {
   "cell_type": "code",
   "execution_count": null,
   "metadata": {},
   "outputs": [],
   "source": [
    "import matplotlib.pyplot as plt"
   ]
  },
  {
   "cell_type": "code",
   "execution_count": null,
   "metadata": {},
   "outputs": [],
   "source": [
    "num_threads = [1, 2, 3, 4, 5, 6, 7, 8,9,10,11,12,13,14,15]"
   ]
  },
  {
   "cell_type": "code",
   "execution_count": null,
   "metadata": {},
   "outputs": [
    {
     "data": {
      "image/png": "[encoded data removed]",
      "text/plain": [
       "<Figure size 640x480 with 1 Axes>"
      ]
     },
     "metadata": {},
     "output_type": "display_data"
    }
   ],
   "source": [
    "plt.plot(num_threads, time_arr,marker='o')\n",
    "plt.xlabel('Number of Threads')\n",
    "plt.ylabel('Execution Time (seconds)')\n",
    "plt.title('Execution Time vs Number of Threads')\n",
    "\n",
    "plt.show()"
   ]
  }
 ],
 "metadata": {
  "kernelspec": {
   "display_name": "Python 3",
   "language": "python",
   "name": "python3"
  },
  "language_info": {
   "codemirror_mode": {
    "name": "ipython",
    "version": 3
   },
   "file_extension": ".py",
   "mimetype": "text/x-python",
   "name": "python",
   "nbconvert_exporter": "python",
   "pygments_lexer": "ipython3",
   "version": "3.8.5"
  }
 },
 "nbformat": 4,
 "nbformat_minor": 2
}
